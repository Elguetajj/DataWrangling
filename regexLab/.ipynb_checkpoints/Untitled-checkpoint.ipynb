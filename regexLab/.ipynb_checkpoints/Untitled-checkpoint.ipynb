{
 "cells": [
  {
   "cell_type": "code",
   "execution_count": 3,
   "metadata": {},
   "outputs": [],
   "source": [
    "import re"
   ]
  },
  {
   "cell_type": "markdown",
   "metadata": {},
   "source": [
    "1. Genere una expresión regular que sea capaz de detectar las placas de un vehículo particular guatemalteco."
   ]
  },
  {
   "cell_type": "code",
   "execution_count": 19,
   "metadata": {},
   "outputs": [
    {
     "data": {
      "text/plain": [
       "['A123SAM', 'CC456OPL']"
      ]
     },
     "execution_count": 19,
     "metadata": {},
     "output_type": "execute_result"
    }
   ],
   "source": [
    "sample = [\"A123SAM\", \"CC456OPL\", \"kk\", \"CM2345s\"]\n",
    "x = re.compile(r\"^(A|C|CC|CD|M|MI|O|P|TC|U)[0-9]{3}[A-Z]{3}$\")\n",
    "result = list(filter(x.match, sample))\n",
    "result"
   ]
  },
  {
   "cell_type": "markdown",
   "metadata": {},
   "source": [
    "2. Genere una expresión regular que valide si un archivo es de tipo .pdf o jpg.\n",
    " - Ejemplo1.pdf, prueba2.PDF, respuestas_del_examen.jpg, amor.JPG\n"
   ]
  },
  {
   "cell_type": "code",
   "execution_count": 23,
   "metadata": {},
   "outputs": [
    {
     "data": {
      "text/plain": [
       "['Ejemplo1.pdf', 'prueba2.PDF', 'respuestas_del_examen.jpg', 'amor.JPG']"
      ]
     },
     "execution_count": 23,
     "metadata": {},
     "output_type": "execute_result"
    }
   ],
   "source": [
    "sample = [\"Ejemplo1.pdf\", \"prueba2.PDF\", \"respuestas_del_examen.jpg\", \"amor.JPG\"]\n",
    "x = re.compile(r\"^.*\\.(jpg|JPG|pdf|PDF)$\")\n",
    "result = list(filter(x.match,sample))\n",
    "result"
   ]
  },
  {
   "cell_type": "markdown",
   "metadata": {},
   "source": [
    "3. Genere una expresión regular para validar contraseñas de correo. Una\n",
    "contraseña de correo debe contener por lo menos 8 caracteres, una letra\n",
    "mayúscula y un carácter especial."
   ]
  },
  {
   "cell_type": "code",
   "execution_count": 29,
   "metadata": {},
   "outputs": [
    {
     "data": {
      "text/plain": [
       "['C0ntraSe$a', 'S0p0rt3!', 'comoTeLLamas#']"
      ]
     },
     "execution_count": 29,
     "metadata": {},
     "output_type": "execute_result"
    }
   ],
   "source": [
    "sample = [\"C0ntraSe$a\", \"S0p0rt3!\", \"hola\", \"comoTeLLamas#\"]\n",
    "x = re.compile(r\"^(?=.*?[A-Z])(?=.*?[#?!@$%^&*-]).{8,}$\")\n",
    "result = list(filter(x.match,sample))\n",
    "result"
   ]
  },
  {
   "cell_type": "markdown",
   "metadata": {},
   "source": [
    "4. Cree una expresión regular para validar un numero de carnet de la Universidad\n",
    "Galileo, por ejemplo 19002324 donde los primeros dos dígitos representan el\n",
    "año en el que el alumno se inscribió los cuales pueden variar desde el 01 (año\n",
    "2001) hasta el 30 (año 2030). Los siguientes dos dígitos son cero (00) los cuales \n",
    "van por default y los últimos cuatro dígitos son un número que va desde el 1110\n",
    "hasta el 8970. Para dar su respuesta utilice la notación de expresiones\n",
    "regulares."
   ]
  },
  {
   "cell_type": "code",
   "execution_count": 35,
   "metadata": {},
   "outputs": [
    {
     "data": {
      "text/plain": [
       "['19002324', '30008970']"
      ]
     },
     "execution_count": 35,
     "metadata": {},
     "output_type": "execute_result"
    }
   ],
   "source": [
    "sample = [\"19002324\", \"31009999\", \"30008970\", \"00008999\"]\n",
    "x = re.compile(r\"^([0-3][0-9])00([1-8][1-9][1-7][0-9])$\")\n",
    "result = list(filter(x.match,sample))\n",
    "result"
   ]
  },
  {
   "cell_type": "markdown",
   "metadata": {},
   "source": [
    "5. Cree una expresión regular que encuentre todas las palabras de la primera\n",
    "línea, pero ninguna de la segunda.\n",
    "    - pit, spot, spate, slap two, respite\n",
    "    - pt,Pot,peat,part"
   ]
  },
  {
   "cell_type": "code",
   "execution_count": 44,
   "metadata": {},
   "outputs": [
    {
     "data": {
      "text/plain": [
       "['pit', 'spot', 'spate', 'slap', 'two', 'respite']"
      ]
     },
     "execution_count": 44,
     "metadata": {},
     "output_type": "execute_result"
    }
   ],
   "source": [
    "sample = [ \"pit\", \"spot\", \"spate\", \"slap\", \"two\", \"respite\", \"pt\",\"Pot\",\"peat\",\"part\"]\n",
    "x = re.compile(r\"^(?!pt|Pot|peat|part)\\S+$\")\n",
    "result = list(filter(x.match,sample))\n",
    "result"
   ]
  },
  {
   "cell_type": "code",
   "execution_count": 104,
   "metadata": {},
   "outputs": [
    {
     "data": {
      "text/plain": [
       "['+50249946583',\n",
       " '502 3125-6922',\n",
       " '+50254821151',\n",
       " '4210-7640',\n",
       " '52018150',\n",
       " '2434 6854',\n",
       " '11234569']"
      ]
     },
     "execution_count": 104,
     "metadata": {},
     "output_type": "execute_result"
    }
   ],
   "source": [
    "sample = [\"+502 1234\",\"+50249946583\", \"502 3125-6922\", \"+50254821151\", \"4210-7640\", \"52018150\", \"2434 6854\", \"11234569\", \"40211234578\"]\n",
    "x = re.compile(r\"^((\\+)(?=502))?(502)?[\\s-]?[0-9]{4}[\\s-]?[0-9]{4}$\")\n",
    "result = list(filter(x.match,sample))\n",
    "result"
   ]
  },
  {
   "cell_type": "markdown",
   "metadata": {},
   "source": [
    "7. Genere una expresión regular que sea capaz de obtener correos de la UFM."
   ]
  },
  {
   "cell_type": "code",
   "execution_count": 121,
   "metadata": {},
   "outputs": [
    {
     "data": {
      "text/plain": [
       "['elguetaj@ufm.edu', 'czelada89@ufm.edu', 'fgonzalez@ufm.edu']"
      ]
     },
     "execution_count": 121,
     "metadata": {},
     "output_type": "execute_result"
    }
   ],
   "source": [
    "sample = [\"elguetaj@ufm.edu\", \"czelada89@ufm.edu\",\"fgonzalez@ufm.edu\", \"juanjelgueta@gmail.com\"]\n",
    "x = re.compile(r\"^(\\w*)@ufm.edu$\")\n",
    "result = list(filter(x.match,sample))\n",
    "result"
   ]
  },
  {
   "cell_type": "markdown",
   "metadata": {},
   "source": [
    "8. En el mundo distópico de Eurasia, Big Brother le asigna un identificador único a\n",
    "cada ciudadano. Genere una expresión regular que valide las identificaciones.\n",
    "Composición del id:\n",
    "    - El id inicia con 0 a 3 letras minúsculas (puede tener 0 letras minúsculas\n",
    "    hasta tres letras minúsculas)\n",
    "    - Luego es seguido por una cadena de dígitos que puede ser de 2 a 9\n",
    "    dígitos respectivamente.\n",
    "    - Inmediatamente después de la cadena de dígitos, se encuentra por lo\n",
    "    menos tres letras mayúsculas."
   ]
  },
  {
   "cell_type": "code",
   "execution_count": 120,
   "metadata": {},
   "outputs": [
    {
     "data": {
      "text/plain": [
       "['abc012333ABCDEEEE', 'c012EEE', '012EEE']"
      ]
     },
     "execution_count": 120,
     "metadata": {},
     "output_type": "execute_result"
    }
   ],
   "source": [
    "sample = [\"KD6-3.7\",\"fn2187\",\"abc012333ABCDEEEE\",\"c012EEE\", \"012EEE\"]\n",
    "x = re.compile(r\"^[a-z]{0,3}[0-9]{2,9}[A-Z]{3,}$\")\n",
    "result = list(filter(x.match,sample))\n",
    "result"
   ]
  }
 ],
 "metadata": {
  "kernelspec": {
   "display_name": "Python 3",
   "language": "python",
   "name": "python3"
  },
  "language_info": {
   "codemirror_mode": {
    "name": "ipython",
    "version": 3
   },
   "file_extension": ".py",
   "mimetype": "text/x-python",
   "name": "python",
   "nbconvert_exporter": "python",
   "pygments_lexer": "ipython3",
   "version": "3.7.5"
  }
 },
 "nbformat": 4,
 "nbformat_minor": 4
}
